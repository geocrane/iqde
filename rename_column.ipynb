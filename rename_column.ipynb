{
 "cells": [
  {
   "cell_type": "code",
   "execution_count": 1,
   "metadata": {},
   "outputs": [],
   "source": [
    "# import sqlite3\n",
    "# conn = sqlite3.connect('iqde/local.db')\n",
    "# cursor = conn.cursor()\n",
    "# cursor.execute('ALTER TABLE Replics RENAME COLUMN subscripe_name TO subscribe_name;')"
   ]
  },
  {
   "cell_type": "code",
   "execution_count": 11,
   "metadata": {},
   "outputs": [],
   "source": [
    "from iqde.data.wgets.select_replic import select_replic"
   ]
  },
  {
   "cell_type": "code",
   "execution_count": 12,
   "metadata": {},
   "outputs": [
    {
     "data": {
      "application/vnd.jupyter.widget-view+json": {
       "model_id": "4c6f1ffc72ee4d18a234fb511f2a0506",
       "version_major": 2,
       "version_minor": 0
      },
      "text/plain": [
       "Dropdown(index=1, layout=Layout(width='540px'), options=('екс_internal_eks_ibs', 'custom_rb_epk', 'internal_sa…"
      ]
     },
     "execution_count": 12,
     "metadata": {},
     "output_type": "execute_result"
    }
   ],
   "source": [
    "select_replic"
   ]
  },
  {
   "cell_type": "code",
   "execution_count": null,
   "metadata": {},
   "outputs": [],
   "source": []
  }
 ],
 "metadata": {
  "kernelspec": {
   "display_name": "Python 3 (ipykernel)",
   "language": "python",
   "name": "python3"
  },
  "language_info": {
   "codemirror_mode": {
    "name": "ipython",
    "version": 3
   },
   "file_extension": ".py",
   "mimetype": "text/x-python",
   "name": "python",
   "nbconvert_exporter": "python",
   "pygments_lexer": "ipython3",
   "version": "3.10.11"
  },
  "widgets": {
   "application/vnd.jupyter.widget-state+json": {
    "state": {
     "01dc10031c7d4f4d9bb93acffb763575": {
      "model_module": "@jupyter-widgets/base",
      "model_module_version": "2.0.0",
      "model_name": "LayoutModel",
      "state": {
       "margin": "0px 0px 0px 25px"
      }
     },
     "024793ec5fa44804878314bc74dc6d25": {
      "model_module": "@jupyter-widgets/controls",
      "model_module_version": "2.0.0",
      "model_name": "DescriptionStyleModel",
      "state": {
       "description_width": ""
      }
     },
     "0c53ef5d842646f4ba785645518a7330": {
      "model_module": "@jupyter-widgets/base",
      "model_module_version": "2.0.0",
      "model_name": "LayoutModel",
      "state": {
       "height": "30px",
       "width": "150px"
      }
     },
     "0ea2057d0df3468bb092e90424549c4d": {
      "model_module": "@jupyter-widgets/base",
      "model_module_version": "2.0.0",
      "model_name": "LayoutModel",
      "state": {
       "justify_content": "flex-end",
       "margin": "10px 0 0 0"
      }
     },
     "1870d000981047f0abef4728134d19e5": {
      "model_module": "@jupyter-widgets/base",
      "model_module_version": "2.0.0",
      "model_name": "LayoutModel",
      "state": {
       "height": "270px",
       "margin": "0px 0px 0px 25px",
       "width": "740px"
      }
     },
     "24b8a05a96534497b1d4810008929bef": {
      "model_module": "@jupyter-widgets/base",
      "model_module_version": "2.0.0",
      "model_name": "LayoutModel",
      "state": {
       "border_bottom": "solid 1px white",
       "border_left": "solid 1px white",
       "border_right": "solid 1px white",
       "border_top": "solid 1px white",
       "margin": "20px 0px 30px 0px",
       "width": "1300px"
      }
     },
     "27f8332b7c3748bd83e101f30c7c4caa": {
      "model_module": "@jupyter-widgets/base",
      "model_module_version": "2.0.0",
      "model_name": "LayoutModel",
      "state": {
       "width": "100%"
      }
     },
     "2df8f8cbb7a147149a9863fff2385f67": {
      "model_module": "@jupyter-widgets/base",
      "model_module_version": "2.0.0",
      "model_name": "LayoutModel",
      "state": {
       "width": "540px"
      }
     },
     "31d24f3051224842af06f6e6ece0a79a": {
      "model_module": "@jupyter-widgets/base",
      "model_module_version": "2.0.0",
      "model_name": "LayoutModel",
      "state": {
       "width": "750px"
      }
     },
     "38b842a19d1a4f8cb59218f8404b6b5f": {
      "model_module": "@jupyter-widgets/base",
      "model_module_version": "2.0.0",
      "model_name": "LayoutModel",
      "state": {
       "width": "580px"
      }
     },
     "38df9027561e4570802ea03b15df7248": {
      "model_module": "@jupyter-widgets/controls",
      "model_module_version": "2.0.0",
      "model_name": "DropdownModel",
      "state": {
       "_options_labels": [
        "екс_internal_eks_ibs",
        "custom_rb_epk",
        "internal_saphcm",
        "custom_rb_card",
        "internal_saphcm2",
        "custom_rb_sbol",
        "Choose_03"
       ],
       "index": 1,
       "layout": "IPY_MODEL_2df8f8cbb7a147149a9863fff2385f67",
       "style": "IPY_MODEL_8c61d5cdde67466a8bad5a955f30ec40"
      }
     },
     "4b57946242404fbebb00a6e3a6efd1bc": {
      "model_module": "@jupyter-widgets/base",
      "model_module_version": "2.0.0",
      "model_name": "LayoutModel",
      "state": {
       "width": "500px"
      }
     },
     "53ed8b5f1b5c419d8562324bb94f1c6e": {
      "model_module": "@jupyter-widgets/base",
      "model_module_version": "2.0.0",
      "model_name": "LayoutModel",
      "state": {
       "width": "1300px"
      }
     },
     "5c3478559dd54d92bd9aff542fe044a3": {
      "model_module": "@jupyter-widgets/base",
      "model_module_version": "2.0.0",
      "model_name": "LayoutModel",
      "state": {
       "width": "100%"
      }
     },
     "5d85f0cfe0174635a789b4bc76dd20af": {
      "model_module": "@jupyter-widgets/base",
      "model_module_version": "2.0.0",
      "model_name": "LayoutModel",
      "state": {}
     },
     "7009a36cc5e34a12a2a08021102514c1": {
      "model_module": "@jupyter-widgets/base",
      "model_module_version": "2.0.0",
      "model_name": "LayoutModel",
      "state": {
       "width": "100%"
      }
     },
     "782434d1591c4acfab7a6007bffa3be3": {
      "model_module": "@jupyter-widgets/base",
      "model_module_version": "2.0.0",
      "model_name": "LayoutModel",
      "state": {
       "height": "400px",
       "margin": "15px 0 0 0",
       "width": "1300px"
      }
     },
     "83d5778fd5a5418eb7efd94eaf497aa0": {
      "model_module": "@jupyter-widgets/base",
      "model_module_version": "2.0.0",
      "model_name": "LayoutModel",
      "state": {
       "height": "200px",
       "width": "100%"
      }
     },
     "88b53b56d8bc4fa5bbd988888bfbbed2": {
      "model_module": "@jupyter-widgets/base",
      "model_module_version": "2.0.0",
      "model_name": "LayoutModel",
      "state": {}
     },
     "8ab3f059baea4c388052aa9d4d0096b4": {
      "model_module": "@jupyter-widgets/base",
      "model_module_version": "2.0.0",
      "model_name": "LayoutModel",
      "state": {
       "width": "1470px"
      }
     },
     "8c61d5cdde67466a8bad5a955f30ec40": {
      "model_module": "@jupyter-widgets/controls",
      "model_module_version": "2.0.0",
      "model_name": "DescriptionStyleModel",
      "state": {
       "description_width": ""
      }
     },
     "922c259c3a2d4392b03c2ffffe95e4d6": {
      "model_module": "@jupyter-widgets/controls",
      "model_module_version": "2.0.0",
      "model_name": "DropdownModel",
      "state": {
       "index": null,
       "layout": "IPY_MODEL_5d85f0cfe0174635a789b4bc76dd20af",
       "style": "IPY_MODEL_024793ec5fa44804878314bc74dc6d25"
      }
     },
     "a1e760097d144a73824bb4f3ec17a3f8": {
      "model_module": "@jupyter-widgets/base",
      "model_module_version": "2.0.0",
      "model_name": "LayoutModel",
      "state": {
       "justify_content": "space-between",
       "margin": "0 0 20px 0"
      }
     },
     "ac0b1431f364467ba0c8c792baadb826": {
      "model_module": "@jupyter-widgets/base",
      "model_module_version": "2.0.0",
      "model_name": "LayoutModel",
      "state": {
       "justify_content": "flex-end"
      }
     },
     "b0f4e42a5a73411ca87095e8c79d4e70": {
      "model_module": "@jupyter-widgets/base",
      "model_module_version": "2.0.0",
      "model_name": "LayoutModel",
      "state": {
       "width": "100%"
      }
     },
     "c0b272f36dad476bae8f8fbbd9f40ba7": {
      "model_module": "@jupyter-widgets/base",
      "model_module_version": "2.0.0",
      "model_name": "LayoutModel",
      "state": {
       "height": "200px",
       "width": "800px"
      }
     },
     "c86fd8865e4f4349bd23631db0fca68d": {
      "model_module": "@jupyter-widgets/base",
      "model_module_version": "2.0.0",
      "model_name": "LayoutModel",
      "state": {}
     },
     "ec15e0b2db024cc893ec784df8431042": {
      "model_module": "@jupyter-widgets/base",
      "model_module_version": "2.0.0",
      "model_name": "LayoutModel",
      "state": {
       "height": "30px",
       "width": "150px"
      }
     },
     "f2e915499d8d4b26bb518df672282537": {
      "model_module": "@jupyter-widgets/base",
      "model_module_version": "2.0.0",
      "model_name": "LayoutModel",
      "state": {
       "height": "200px",
       "width": "540px"
      }
     }
    },
    "version_major": 2,
    "version_minor": 0
   }
  }
 },
 "nbformat": 4,
 "nbformat_minor": 4
}
